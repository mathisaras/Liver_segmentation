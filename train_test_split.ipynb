{
 "cells": [
  {
   "cell_type": "code",
   "execution_count": 28,
   "id": "67ccfc5a-6eda-4cb1-b4a8-b9f9a425ffd8",
   "metadata": {},
   "outputs": [],
   "source": [
    "import os\n",
    "import shutil\n",
    "import numpy as np\n",
    "from sklearn.model_selection import train_test_split\n"
   ]
  },
  {
   "cell_type": "code",
   "execution_count": 29,
   "id": "d5904d34-50a7-4a24-b81e-155176eff8cf",
   "metadata": {},
   "outputs": [],
   "source": [
    "\n",
    "# Define directories for Nifti image and segmentation files\n",
    "nifti_img_dir =\"D:/monai/dataset/nifti_files/images\"        # Directory for Nifti image files\n",
    "nifti_seg_dir = \"D:/monai/dataset/nifti_files/labels\"  # Directory for Nifti segmentation files\n",
    "\n",
    "# Output directories\n",
    "train_img_dir = \"D:/monai/dataset/TrainVolumes\"      # Folder for training Nifti image data\n",
    "test_img_dir =  \"D:/monai/dataset/TestVolumes\"         # Folder for testing Nifti image data\n",
    "\n",
    "train_seg_dir = \"D:/monai/dataset/TrainSegmentation\"  # Folder for training Nifti segmentation data\n",
    "test_seg_dir = \"D:/monai/dataset/TestSegmentation\"   # Folder for testing Nifti segmentation data\n"
   ]
  },
  {
   "cell_type": "code",
   "execution_count": 30,
   "id": "e763d27a-60d5-47cb-ad3f-10edeee4cbd0",
   "metadata": {},
   "outputs": [],
   "source": [
    "\n",
    "# List all Nifti files \n",
    "nifti_img_files = [f for f in os.listdir(nifti_img_dir) if f.endswith('.nii') or f.endswith('.nii.gz')]\n",
    "nifti_seg_files = [f for f in os.listdir(nifti_seg_dir) if f.endswith('.nii') or f.endswith('.nii.gz')]\n",
    "\n",
    "# Ensure that the image and segmentation files are aligned\n",
    "nifti_img_files.sort()\n",
    "nifti_seg_files.sort()\n",
    "\n",
    "assert len(nifti_img_files) == len(nifti_seg_files), \"Mismatch between the number of images and segmentations.\"\n"
   ]
  },
  {
   "cell_type": "code",
   "execution_count": 31,
   "id": "8d9b92bb-2844-49f1-862d-73db6f9c3ab5",
   "metadata": {},
   "outputs": [
    {
     "name": "stdout",
     "output_type": "stream",
     "text": [
      "No missing labels found for any image.\n",
      "No missing images found for any label.\n",
      "Process complete.\n"
     ]
    }
   ],
   "source": [
    "import os\n",
    "\n",
    "# Clean filenames (strip spaces, lowercase everything for consistency)\n",
    "nifti_img_basenames = set(os.path.splitext(f)[0].replace('.nii', '').strip().lower() for f in nifti_img_files)\n",
    "nifti_seg_basenames = set(os.path.splitext(f)[0].replace('.nii', '').strip().lower() for f in nifti_seg_files)\n",
    "\n",
    "# Find missing labels for images\n",
    "missing_labels = nifti_img_basenames - nifti_seg_basenames  # Images with no corresponding labels\n",
    "\n",
    "# Find missing images for labels (just to double-check)\n",
    "missing_images = nifti_seg_basenames - nifti_img_basenames  # Labels with no corresponding images\n",
    "\n",
    "# Handle missing labels\n",
    "if missing_labels:\n",
    "    print(f\"Found {len(missing_labels)} images with no corresponding labels:\")\n",
    "    for img_basename in missing_labels:\n",
    "        img_file = next((f for f in nifti_img_files if img_basename in f.lower()), None)\n",
    "        if img_file:\n",
    "            print(f\"Deleting {img_file} as it has no corresponding label.\")\n",
    "            os.remove(os.path.join(nifti_img_dir, img_file))\n",
    "else:\n",
    "    print(\"No missing labels found for any image.\")\n",
    "\n",
    "# Handle missing images\n",
    "if missing_images:\n",
    "    print(f\"Found {len(missing_images)} labels with no corresponding images:\")\n",
    "    for seg_basename in missing_images:\n",
    "        seg_file = next((f for f in nifti_seg_files if seg_basename in f.lower()), None)\n",
    "        if seg_file:\n",
    "            print(f\"Warning: {seg_file} has no corresponding image file.\")\n",
    "else:\n",
    "    print(\"No missing images found for any label.\")\n",
    "\n",
    "print(\"Process complete.\")\n"
   ]
  },
  {
   "cell_type": "code",
   "execution_count": 32,
   "id": "999df269-189e-43c1-98b2-fc7398a16d4b",
   "metadata": {},
   "outputs": [
    {
     "name": "stdout",
     "output_type": "stream",
     "text": [
      "Deleted 0 image files with no corresponding labels.\n"
     ]
    }
   ],
   "source": [
    "\n",
    "# Extract base filenames without extensions\n",
    "nifti_img_basenames = set(os.path.splitext(f)[0].replace('.nii', '') for f in nifti_img_files)\n",
    "nifti_seg_basenames = set(os.path.splitext(f)[0].replace('.nii', '') for f in nifti_seg_files)\n",
    "\n",
    "# Find the image files without corresponding labels\n",
    "missing_labels = nifti_img_basenames - nifti_seg_basenames  # Images with no corresponding labels\n",
    "\n",
    "# Print and delete the unmatched image files\n",
    "for img_basename in missing_labels:\n",
    "    img_file = next((f for f in nifti_img_files if img_basename in f), None)\n",
    "    if img_file:\n",
    "        print(f\"Deleting {img_file} as it has no corresponding label.\")\n",
    "        os.remove(os.path.join(nifti_img_dir, img_file))\n",
    "\n",
    "print(f\"Deleted {len(missing_labels)} image files with no corresponding labels.\")\n"
   ]
  },
  {
   "cell_type": "code",
   "execution_count": 33,
   "id": "de89e931-f70c-4ce7-960a-da0b03eca508",
   "metadata": {},
   "outputs": [
    {
     "name": "stdout",
     "output_type": "stream",
     "text": [
      "Moved 679 image files and corresponding segmentation files to train folders.\n",
      "Moved 170 image files and corresponding segmentation files to test folders.\n"
     ]
    }
   ],
   "source": [
    "\n",
    "# Split the dataset into train and test sets (80% train, 20% test)\n",
    "train_img_files, test_img_files, train_seg_files, test_seg_files = train_test_split(\n",
    "    nifti_img_files, nifti_seg_files, test_size=0.2, random_state=42)\n",
    "\n",
    "# Create directories if they don't exist\n",
    "os.makedirs(train_img_dir, exist_ok=True)\n",
    "os.makedirs(test_img_dir, exist_ok=True)\n",
    "os.makedirs(train_seg_dir, exist_ok=True)\n",
    "os.makedirs(test_seg_dir, exist_ok=True)\n",
    "\n",
    "# Move train files and corresponding segmentation files to train folders\n",
    "for img_file, seg_file in zip(train_img_files, train_seg_files):\n",
    "    # Move the original Nifti image file\n",
    "    shutil.copy(os.path.join(nifti_img_dir, img_file), os.path.join(train_img_dir, img_file))\n",
    "    \n",
    "    # Move the corresponding segmentation file\n",
    "    shutil.copy(os.path.join(nifti_seg_dir, seg_file), os.path.join(train_seg_dir, seg_file))\n",
    "\n",
    "# Move test files and corresponding segmentation files to test folders\n",
    "for img_file, seg_file in zip(test_img_files, test_seg_files):\n",
    "    # Move the original Nifti image file\n",
    "    shutil.copy(os.path.join(nifti_img_dir, img_file), os.path.join(test_img_dir, img_file))\n",
    "    \n",
    "    # Move the corresponding segmentation file\n",
    "    shutil.copy(os.path.join(nifti_seg_dir, seg_file), os.path.join(test_seg_dir, seg_file))\n",
    "\n",
    "print(f\"Moved {len(train_img_files)} image files and corresponding segmentation files to train folders.\")\n",
    "print(f\"Moved {len(test_img_files)} image files and corresponding segmentation files to test folders.\")"
   ]
  },
  {
   "cell_type": "code",
   "execution_count": null,
   "id": "21cbf70e-5e2e-44de-bd75-a99e8f10c8c3",
   "metadata": {},
   "outputs": [],
   "source": []
  }
 ],
 "metadata": {
  "kernelspec": {
   "display_name": "Python 3 (ipykernel)",
   "language": "python",
   "name": "python3"
  },
  "language_info": {
   "codemirror_mode": {
    "name": "ipython",
    "version": 3
   },
   "file_extension": ".py",
   "mimetype": "text/x-python",
   "name": "python",
   "nbconvert_exporter": "python",
   "pygments_lexer": "ipython3",
   "version": "3.8.20"
  }
 },
 "nbformat": 4,
 "nbformat_minor": 5
}
